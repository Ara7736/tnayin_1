{
 "cells": [
  {
   "cell_type": "code",
   "execution_count": 119,
   "id": "9599e7f5",
   "metadata": {},
   "outputs": [],
   "source": [
    "import os\n",
    "import json\n",
    "from collections import OrderedDict\n",
    "import pathlib\n",
    "\n"
   ]
  },
  {
   "cell_type": "code",
   "execution_count": 70,
   "id": "1bebc3d9",
   "metadata": {},
   "outputs": [
    {
     "name": "stdout",
     "output_type": "stream",
     "text": [
      "['Aruvacharq 248 solar holding hav.pdf', 'Concept.docx', 'goog-10-k-2024 alfabet.pdf', 'IMG_20250520_095534.jpg', 'IMG_20250520_095558.jpg', 'IMG_20250520_095627.jpg', 'picture.png', 'wsw.XML']\n"
     ]
    }
   ],
   "source": [
    "tnayin = \"C:/Users/ara.sedrakyan/Desktop/tnayin_1/My_Files\"\n",
    "list_of_files = os.listdir(tnayin)\n",
    "print(list_of_files)"
   ]
  },
  {
   "cell_type": "code",
   "execution_count": 89,
   "id": "5945794a",
   "metadata": {},
   "outputs": [
    {
     "name": "stdout",
     "output_type": "stream",
     "text": [
      "[WindowsPath('C:/Users/ara.sedrakyan/Desktop/tnayin_1/My_Files/Aruvacharq 248 solar holding hav.pdf'), WindowsPath('C:/Users/ara.sedrakyan/Desktop/tnayin_1/My_Files/Concept.docx'), WindowsPath('C:/Users/ara.sedrakyan/Desktop/tnayin_1/My_Files/goog-10-k-2024 alfabet.pdf'), WindowsPath('C:/Users/ara.sedrakyan/Desktop/tnayin_1/My_Files/IMG_20250520_095534.jpg'), WindowsPath('C:/Users/ara.sedrakyan/Desktop/tnayin_1/My_Files/IMG_20250520_095558.jpg'), WindowsPath('C:/Users/ara.sedrakyan/Desktop/tnayin_1/My_Files/IMG_20250520_095627.jpg'), WindowsPath('C:/Users/ara.sedrakyan/Desktop/tnayin_1/My_Files/picture.png'), WindowsPath('C:/Users/ara.sedrakyan/Desktop/tnayin_1/My_Files/wsw.XML')]\n"
     ]
    }
   ],
   "source": [
    "tnayin_1 = pathlib.Path(tnayin)\n",
    "\n",
    "list_of_files_for_sizes = list(tnayin_1.iterdir())\n",
    "print(list_of_files_for_sizes)"
   ]
  },
  {
   "cell_type": "code",
   "execution_count": 68,
   "id": "16358d7a",
   "metadata": {},
   "outputs": [
    {
     "name": "stdout",
     "output_type": "stream",
     "text": [
      "['.pdf', '.docx', '.pdf', '.jpg', '.jpg', '.jpg', '.png', '.XML']\n"
     ]
    }
   ],
   "source": [
    "list_of_file_extension = []\n",
    "for i in list_of_files_1:\n",
    "    filename, file_extension = os.path.splitext(i)\n",
    "    list_of_file_extension.append(file_extension)\n",
    "print(list_of_file_extension)"
   ]
  },
  {
   "cell_type": "code",
   "execution_count": 81,
   "id": "7f8b90d4",
   "metadata": {},
   "outputs": [
    {
     "name": "stdout",
     "output_type": "stream",
     "text": [
      "{'.docx': 1, '.pdf': 2, '.jpg': 3, '.png': 1, '.XML': 1}\n",
      "{'.docx': 1, '.png': 1, '.XML': 1, '.pdf': 2, '.jpg': 3}\n"
     ]
    }
   ],
   "source": [
    "set_of_list = set(list_of_file_extension)\n",
    "dict_of_esp = {}\n",
    "for i in set_of_list:\n",
    "    count = 0\n",
    "    for j in list_of_file_extension:\n",
    "        if j == i:\n",
    "            count += 1\n",
    "    dict_of_esp[i] = count\n",
    "print(dict_of_esp)\n",
    "dict_of_esp_sorted = dict(sorted(dict_of_esp.items(), key=lambda item: item[1]))\n",
    "print(dict_of_esp_sorted)\n"
   ]
  },
  {
   "cell_type": "code",
   "execution_count": 108,
   "id": "2734733b",
   "metadata": {},
   "outputs": [
    {
     "name": "stdout",
     "output_type": "stream",
     "text": [
      "{\n",
      "    \".docx\": 1,\n",
      "    \".pdf\": 2,\n",
      "    \".jpg\": 3,\n",
      "    \".png\": 1,\n",
      "    \".XML\": 1\n",
      "}\n"
     ]
    }
   ],
   "source": [
    "Json_file = json.dumps(dict_of_esp, indent=4)\n",
    "print(Json_file)\n",
    "with open('file_distribution.json', 'w') as Json_write:\n",
    "    Json_write.write(Json_file)"
   ]
  },
  {
   "cell_type": "code",
   "execution_count": 105,
   "id": "01574c8e",
   "metadata": {},
   "outputs": [],
   "source": [
    "dict_of_sizes = {}\n",
    "for i in list_of_files_for_sizes:\n",
    "    size = str(round((os.path.getsize(i))/(1024*1024),3)) + ' ' + 'MB'\n",
    "    dict_of_sizes[size] = i.name \n",
    "dict_of_sizes = dict(sorted(dict_of_sizes.items()))\n",
    "\n",
    "\n"
   ]
  },
  {
   "cell_type": "code",
   "execution_count": 109,
   "id": "1f5d2193",
   "metadata": {},
   "outputs": [],
   "source": [
    "Json_file_1 = json.dumps(dict_of_sizes, indent = 4)\n",
    "with open('file_sizes.json', 'w') as Json_write_1:\n",
    "    Json_write_1.write(Json_file_1)\n",
    "    "
   ]
  }
 ],
 "metadata": {
  "kernelspec": {
   "display_name": "Python 3",
   "language": "python",
   "name": "python3"
  },
  "language_info": {
   "codemirror_mode": {
    "name": "ipython",
    "version": 3
   },
   "file_extension": ".py",
   "mimetype": "text/x-python",
   "name": "python",
   "nbconvert_exporter": "python",
   "pygments_lexer": "ipython3",
   "version": "3.13.3"
  }
 },
 "nbformat": 4,
 "nbformat_minor": 5
}
